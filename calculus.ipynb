{
 "cells": [
  {
   "cell_type": "code",
   "execution_count": 7,
   "metadata": {},
   "outputs": [
    {
     "data": {
      "text/plain": [
       "0.16642353500306217"
      ]
     },
     "execution_count": 7,
     "metadata": {},
     "output_type": "execute_result"
    }
   ],
   "source": [
    "from math import sqrt\n",
    "import math\n",
    "import numpy as np\n",
    "\n",
    "\n",
    "def dot(u1, u2, u3, v1, v2, v3):\n",
    "    return u1 * v1 + u2 * v2 + u3 * v3\n",
    "\n",
    "\n",
    "dot(-6, 2, -4, -3, -2, -3)\n",
    "\n",
    "\n",
    "def norm(*args):\n",
    "    return sqrt(norm2(*args))\n",
    "\n",
    "def norm2(*args):\n",
    "    return sum([x**2 for x in args])\n",
    "\n",
    "\n",
    "norm(2, -9, 6)\n",
    "\n",
    "dot(5, -6, 4, 4, 4, 1)\n",
    "\n",
    "norm(9, 9) ** 2 / 81\n",
    "\n",
    "\n",
    "def cross(u1, u2, u3, v1, v2, v3):\n",
    "    return (u2 * v3 - u3 * v2, u3 * v1 - u1 * v3, u1 * v2 - u2 * v1)\n",
    "\n",
    "\n",
    "cross(3, 4, 0, 0, 2, -5)\n",
    "cross(2, 3, -8, -1, -1, 1)\n",
    "norm(*cross(2, -3, 0, 0, 4, 3))\n",
    "cross(2, -1, -3, 3, 3, -1)\n",
    "\n",
    "10**2 + 7**2 + 9**2\n",
    "\n",
    "cross(0, 10, -2, 0, 1, -1)\n",
    "cross(2, 1, 5, -2, 2, -1)\n",
    "\n",
    "(3**4 - 5 * 3)\n",
    "\n",
    "\n",
    "def diffs(l):\n",
    "    return [l[i + 1] - l[i] for i in range(len(l) - 1)]\n",
    "\n",
    "\n",
    "diffs(diffs(diffs([2, 2, 14, 74, 242, 602, 1262, 2354])))\n",
    "1092 + 578 + 2354\n",
    "\n",
    "\n",
    "def next_term(arr):\n",
    "    # if all element in arr are the same, return that element\n",
    "    if len(set(arr)) == 1:\n",
    "        return arr[0]\n",
    "    return arr[-1] + next_term(diffs(arr))\n",
    "\n",
    "\n",
    "next_term([2, 2, 14, 74, 242, 602, 1262, 2354])\n",
    "\n",
    "next_term([-2, 0, 8, 28, 66, 128, 220, 348])\n",
    "\n",
    "# 5 factorial\n",
    "math.factorial(5) * 24\n",
    "\n",
    "\n",
    "def f(x):\n",
    "    return sqrt(3 - 5 * x + x**2 + x**3) / (x - 1)\n",
    "\n",
    "\n",
    "f(1.001)\n",
    "\n",
    "\n",
    "def f2(x):\n",
    "    return (abs(x) + math.sin(x)) / x**2\n",
    "\n",
    "f2(0.0001)\n",
    "\n",
    "math.sin(13/0.0001)\n",
    "\n",
    "def dist(p, p0, v):\n",
    "    return norm(*cross(*(p0 - p), *v)) / norm(*v), norm(*cross(*(p0 - p), *v)), norm(*v), cross(*(p0 - p), *v)\n",
    "\n",
    "dist(np.array([5, -6, 3]), np.array([2, 3, -2]), np.array([-1, -4, 3]))\n",
    "\n",
    "(7**2 + 14**2 + 21**2) /2\n",
    "\n",
    "cross(1, 0, 2, 0, 3, 3)\n",
    "\n",
    "dot(3, 2, -3, -6, -10, 1)\n",
    "\n",
    "sqrt(324)\n",
    "\n",
    "dot(4, 4, 2, -2, -3, 10)\n",
    "\n",
    "def pi(n):\n",
    "    return 4 * sum([(-1)**i / (2 * i + 1) for i in range(n)])\n",
    "\n",
    "pi(1000)\n",
    "\n",
    "cross(1, -1, 0, 0, -1, 1)\n",
    "\n",
    "norm2(3, 4, 5)\n",
    "\n",
    "4*9**2 - 9**2\n",
    "\n",
    "2*sqrt(19)/(14**(3/2))\n",
    "\n",
    "# 1/3+2\n",
    "\n",
    "# sqrt(36+36+4)/(14**(3/2))\n",
    "\n",
    "# # 36+36+4"
   ]
  },
  {
   "cell_type": "code",
   "execution_count": 25,
   "metadata": {},
   "outputs": [
    {
     "data": {
      "text/plain": [
       "'a'"
      ]
     },
     "execution_count": 25,
     "metadata": {},
     "output_type": "execute_result"
    }
   ],
   "source": [
    "from collections import Counter\n",
    "\n",
    "\n",
    "c = Counter(\"aabbcc\")\n",
    "sorted(c.items(), key=lambda x: x[1], reverse=True)\n",
    "\n",
    "S = \"aaabaabbbccccc\"\n",
    "sorted(S, key=S.count)\n",
    "\n",
    "\"a\"[-3:]"
   ]
  }
 ],
 "metadata": {
  "kernelspec": {
   "display_name": "Python 3",
   "language": "python",
   "name": "python3"
  },
  "language_info": {
   "codemirror_mode": {
    "name": "ipython",
    "version": 3
   },
   "file_extension": ".py",
   "mimetype": "text/x-python",
   "name": "python",
   "nbconvert_exporter": "python",
   "pygments_lexer": "ipython3",
   "version": "3.11.5"
  }
 },
 "nbformat": 4,
 "nbformat_minor": 2
}
