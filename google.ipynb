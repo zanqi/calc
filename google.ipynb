{
 "cells": [
  {
   "cell_type": "code",
   "execution_count": 9,
   "metadata": {},
   "outputs": [
    {
     "data": {
      "text/plain": [
       "455.53093477052005"
      ]
     },
     "execution_count": 9,
     "metadata": {},
     "output_type": "execute_result"
    }
   ],
   "source": [
    "# Kick SAtart 2022 - Round B\n",
    "# Problem A. Infinity Area\n",
    "\n",
    "from math import *\n",
    "\n",
    "def infinity_area(r, a, b):\n",
    "    ans = 0\n",
    "    left = True\n",
    "    while r > 0:\n",
    "        ans += pi * r**2\n",
    "        r = r * a if left else r // b\n",
    "        left = not left\n",
    "    return ans\n",
    "\n",
    "infinity_area(1, 3, 6)\n",
    "infinity_area(5, 2, 5)"
   ]
  },
  {
   "cell_type": "code",
   "execution_count": null,
   "metadata": {},
   "outputs": [],
   "source": [
    "# Problem B. Palindromic Factor\n",
    "\n",
    "def solve(n):\n",
    "    def is_p(n2):\n",
    "        return str(n2) == str(n2)[::-1]"
   ]
  },
  {
   "cell_type": "code",
   "execution_count": null,
   "metadata": {},
   "outputs": [],
   "source": [
    "# Problem C. Unlock Padlock\n",
    "\n",
    "def solveC(d, a):\n",
    "    # 1 1 1 2 2 3 3 3   -> 3\n",
    "    # 1 1 3 1 2 2       -> 5\n",
    "    n = len(a)\n",
    "    def dist(v, t):\n",
    "        return min(abs(v+d-t), abs(v-t))\n",
    "    dpl = [[0] * len(a) for _ in a]\n",
    "    dpr = [[0] * len(a) for _ in a]\n",
    "\n",
    "    for l in range(1, n):\n",
    "        for i in range(n):\n",
    "            j = i + l\n",
    "            if j >= n:\n",
    "                continue\n",
    "            dpl[i][j] = min(dpl[i+1][j] + dist(a[i], a[i+1]), \n",
    "                dpr[i+1][j] + dist(a[j], a[i]))\n",
    "            dpr[i][j] = min(dpr[i][j-1] + dist(a[j], a[j-1]), \n",
    "                dpl[i][j-1] + dist(a[i], a[j]))\n",
    "\n",
    "    return min(dist(a[0], 0) + dpl[0][n], dist(a[-1], 0) + dpr[0][n])"
   ]
  },
  {
   "cell_type": "code",
   "execution_count": 15,
   "metadata": {},
   "outputs": [
    {
     "name": "stdout",
     "output_type": "stream",
     "text": [
      "0 0 -1 0 0 E\n",
      "0 1 0 2 1 S\n",
      "2 1 2 2 1 S\n",
      "3 1 4 1 2 W\n",
      "3 0 3 -1 3 N\n",
      "2 0 1 0 0 E\n",
      "1 0 1 -1 3 N\n",
      "[['#'], ['#'], ['#']]\n"
     ]
    },
    {
     "data": {
      "text/plain": [
       "'ESSSWNNN'"
      ]
     },
     "execution_count": 15,
     "metadata": {},
     "output_type": "execute_result"
    }
   ],
   "source": [
    "def solveD(a):\n",
    "    a = [list(s) for s in a]\n",
    "    ans = ''\n",
    "\n",
    "    def cango(i, j):\n",
    "        return 0<=i and i<2*len(a) and 0<=j and j<2*len(a[0]) and a[i//2][j//2] == '*'\n",
    "\n",
    "    def dfs(i, j):\n",
    "        nonlocal ans\n",
    "        a[i//2][j//2] = '#'\n",
    "        i2 = i%2\n",
    "        j2 = j%2\n",
    "        kbk = j2 if i2 == 0 else 3-j2\n",
    "        didj = [(-1, 0), (0, 1), (1, 0), (0, -1)]\n",
    "        dir = ['N', 'E', 'S', 'W']\n",
    "\n",
    "        k = kbk\n",
    "        while True:\n",
    "            di, dj = didj[k]\n",
    "            ni = i + di\n",
    "            nj = j + dj\n",
    "            if cango(ni, nj):\n",
    "                ans += dir[k]\n",
    "                dfs(ni, nj)\n",
    "                ans += dir[k^2]\n",
    "            else:\n",
    "                print(i, j, ni, nj, k, dir[(k+1)%4])\n",
    "                ans += dir[(k+1)%4]\n",
    "            k = (k+1)%4\n",
    "            di, dj = didj[k]\n",
    "            i += di\n",
    "            j += dj\n",
    "            if k == kbk:\n",
    "                ans = ans[:-1]\n",
    "                break\n",
    "\n",
    "    \n",
    "    dfs(0, 0)\n",
    "    print(a)\n",
    "    for i in range(len(a)):\n",
    "        for j in range(len(a[0])):\n",
    "            if a[i][j] == '*':\n",
    "                return \"IMPOSSIBLE\"\n",
    "    return ans + 'N'\n",
    "\n",
    "# solveD(['*'])\n",
    "# solveD(['**', '*#'])\n",
    "solveD(['*', '*', '#'])"
   ]
  }
 ],
 "metadata": {
  "kernelspec": {
   "display_name": "Python 3",
   "language": "python",
   "name": "python3"
  },
  "language_info": {
   "codemirror_mode": {
    "name": "ipython",
    "version": 3
   },
   "file_extension": ".py",
   "mimetype": "text/x-python",
   "name": "python",
   "nbconvert_exporter": "python",
   "pygments_lexer": "ipython3",
   "version": "3.11.5"
  }
 },
 "nbformat": 4,
 "nbformat_minor": 2
}
